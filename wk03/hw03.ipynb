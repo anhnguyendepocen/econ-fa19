{
 "cells": [
  {
   "cell_type": "markdown",
   "metadata": {},
   "source": [
    "<table style=\"width: 100%;\">\n",
    "    <tr style=\"background-color: transparent;\"><td>\n",
    "        <img src=\"https://d8a-88.github.io/econ-fa19/assets/images/blue_text.png\" width=\"250px\" style=\"margin-left: 0;\" />\n",
    "    </td><td>\n",
    "        <p style=\"text-align: right; font-size: 12pt;\"><strong>Economic Models</strong>, Fall 2019<br>\n",
    "            Dr. Eric Van Dusen</p></td></tr>\n",
    "</table>\n"
   ]
  },
  {
   "cell_type": "markdown",
   "metadata": {},
   "source": [
    "# Homework 3"
   ]
  },
  {
   "cell_type": "markdown",
   "metadata": {},
   "source": [
    "In this week's lecture, we learned about the demand curve and how different factors can cause shifts. One of the factors we learned was changes in customer preferences. We analyzed innovations Delta made in 2002 and their impact in ticket sales. Let's now compare Delta sales versus non-Delta sales to see if there was any difference."
   ]
  },
  {
   "cell_type": "code",
   "execution_count": null,
   "metadata": {},
   "outputs": [],
   "source": [
    "from datascience import *\n",
    "\n",
    "import sympy\n",
    "solve = lambda x,y: sympy.solve(x-y)[0] if len(sympy.solve(x-y))==1 else \"Not Single Solution\"\n",
    "import matplotlib.pyplot as plt\n",
    "plt.style.use('seaborn-muted')\n",
    "%matplotlib inline\n",
    "\n",
    "from ipywidgets import interact, interactive, fixed, interact_manual\n",
    "import ipywidgets as widgets\n",
    "from IPython.display import display\n",
    "import numpy as np\n",
    "import pandas as pd\n",
    "\n",
    "import warnings\n",
    "warnings.filterwarnings('ignore')\n",
    "from ipywidgets import interact\n",
    "\n",
    "airlines = Table.read_table(\"airlines.csv\")\n",
    "airlines = airlines.relabeled(\"Market Share.1\", \"Market Share\")\n",
    "nondelta = Table.read_table(\"NonDelta.csv\")\n",
    "nondelta = nondelta.drop(\"Price\")\n",
    "nondelta = nondelta.relabeled([\"Average Weekly Passengers\", \"Average Fare\"], [\"Quantity\", \"Price\"])\n",
    "\n",
    "def plot_equation(equation, price_start, price_end, label=None):\n",
    "    plot_prices = [price_start, price_end]\n",
    "    plot_quantities = [equation.subs(list(equation.free_symbols)[0], c) for c in plot_prices]\n",
    "    plt.plot(plot_prices, plot_quantities, label=label)\n",
    "    \n",
    "def plot_intercept(eq1, eq2):\n",
    "    ex = sympy.solve(eq1-eq2)[0]\n",
    "    why = eq1.subs(list(eq1.free_symbols)[0], ex)\n",
    "    plt.scatter([ex], [why])\n",
    "    return (ex, why)"
   ]
  },
  {
   "cell_type": "markdown",
   "metadata": {},
   "source": [
    "Use the lab as a guide to approach the homework. The airlines and non-Delta data have been loaded in for you as `airlines` and `nondelta`, respectively. We have also provided you with the `plot_equation` and `plot_intercept` functions from lab."
   ]
  },
  {
   "cell_type": "markdown",
   "metadata": {},
   "source": [
    "## Question 1"
   ]
  },
  {
   "cell_type": "markdown",
   "metadata": {},
   "source": [
    "**Question 1.1:** Filter the table to only include the quantity to be less than 2000 and make a scatter plot. Remember that for price, you want to use \"Average Fare\" versus \"Price\" because \"Average Fare\" refers to the average cost of all flights, while \"Price\" refers to the price for low price airlines."
   ]
  },
  {
   "cell_type": "code",
   "execution_count": null,
   "metadata": {},
   "outputs": [],
   "source": [
    "nondelta = nondelta.where(...)\n",
    "nondelta....(..., fit_line = True, color = \"tab:blue\")"
   ]
  },
  {
   "cell_type": "markdown",
   "metadata": {},
   "source": [
    "**Question 1.2:** Find the demand curve and compare it with the supply curve of $0.03Q + 14$. "
   ]
  },
  {
   "cell_type": "code",
   "execution_count": null,
   "metadata": {},
   "outputs": [],
   "source": [
    "np.polyfit(nondelta.column(...), nondelta.column(...), 1)\n",
    "Q = ...\n",
    "nondeltademand = ...\n",
    "nondeltasupply = ..."
   ]
  },
  {
   "cell_type": "markdown",
   "metadata": {},
   "source": [
    "**Question 1.3:** Find the quantity and price equilibrium."
   ]
  },
  {
   "cell_type": "code",
   "execution_count": null,
   "metadata": {},
   "outputs": [],
   "source": [
    "Q_star_nondelta = ...\n",
    "Q_star_nondelta"
   ]
  },
  {
   "cell_type": "code",
   "execution_count": null,
   "metadata": {},
   "outputs": [],
   "source": [
    "nondeltademand.subs(..., ...)\n",
    "nondeltasupply.subs(..., ...)"
   ]
  },
  {
   "cell_type": "markdown",
   "metadata": {},
   "source": [
    "**Question 1.4:** Find the market equilibrium."
   ]
  },
  {
   "cell_type": "code",
   "execution_count": null,
   "metadata": {},
   "outputs": [],
   "source": [
    "plot_equation(..., 0, 4000)\n",
    "plot_equation(..., 0, 4000)\n",
    "plt.ylim(0,175)\n",
    "plt.title(\"Non-Delta Supply and Demand\")\n",
    "plt.xlabel(\"Quantity\")\n",
    "plt.ylabel(\"Price\")\n",
    "plot_intercept(..., ...)"
   ]
  },
  {
   "cell_type": "markdown",
   "metadata": {},
   "source": [
    "**Questio 1.5:** Visually compare the market equilibrium between Delta and non-Delta flights. Explain in 2-4 sentences why there was or was not a change."
   ]
  },
  {
   "cell_type": "code",
   "execution_count": null,
   "metadata": {},
   "outputs": [],
   "source": [
    "deltademand = -0.035 * Q + 189\n",
    "deltasupply = 0.03 * Q + 14\n",
    "Q_star_delta = solve(deltademand, deltasupply)\n",
    "deltademand.subs(Q, Q_star_delta)\n",
    "deltasupply.subs(Q, Q_star_delta)\n",
    "\n",
    "plot_equation(nondeltademand, 1250, 3500, label = \"Non-Delta Flights\")\n",
    "plot_equation(nondeltasupply, 1250, 3500)\n",
    "plt.ylim(30,160)\n",
    "plt.title(\"Delta vs Non-Delta Airlines Equilibrium\")\n",
    "plt.xlabel(\"Quantity\")\n",
    "plt.ylabel(\"Price\")\n",
    "plot_intercept(nondeltasupply, nondeltademand)\n",
    "plot_equation(deltademand, 1250, 3500, label = \"Delta Flights\")\n",
    "plot_equation(deltasupply, 1250, 3500)\n",
    "\n",
    "plt.legend(loc = \"upper right\")\n",
    "plt.show()"
   ]
  },
  {
   "cell_type": "markdown",
   "metadata": {},
   "source": [
    "_Type your answer here, replacing this text._"
   ]
  },
  {
   "cell_type": "markdown",
   "metadata": {},
   "source": [
    "## Question 2\n",
    "\n",
    "### Low Price Airlines and Market Equilibrium"
   ]
  },
  {
   "cell_type": "markdown",
   "metadata": {},
   "source": [
    "As you will learn later in this course, there are two types of goods: normal and inferior. A normal good is a good in which the demand increases as its price increases. An inferior good is the opposite: a good in which the demand decreases as its price increases. Low price airlines can be considered as inferior goods. \n"
   ]
  },
  {
   "cell_type": "markdown",
   "metadata": {},
   "source": [
    "**Question 2.1:** Create a new table with only information regarding low price airlines. Relabel columns as needed.\n",
    "\n",
    "Remember, we are comparing low price vs regular price airlines, not with Delta. Hence, you should use columns related to \"Low Price Airline\", such as \"Low Price Airline\", \"Average Weekly Passengers\", \"Market Share.1\", and \"Price\" from the Airlines table instead of Delta table."
   ]
  },
  {
   "cell_type": "code",
   "execution_count": null,
   "metadata": {},
   "outputs": [],
   "source": [
    "lowprice = airlines.select([..., ..., ..., ...])\n",
    "lowprice"
   ]
  },
  {
   "cell_type": "markdown",
   "metadata": {},
   "source": [
    "**Question 2.2:** Limit average weekly passengers up to 2000 passengers. Create a scatter plot between \"Average Weekly Passengers\" and \"Price\". Also, create a demand function for low price airlines."
   ]
  },
  {
   "cell_type": "code",
   "execution_count": null,
   "metadata": {},
   "outputs": [],
   "source": [
    "lowprice = lowprice.where(lowprice.column(\"Average Weekly Passengers\") < 2000)\n",
    "lowprice.scatter(\"Average Weekly Passengers\", \"Price\", fit_line = True)"
   ]
  },
  {
   "cell_type": "code",
   "execution_count": null,
   "metadata": {},
   "outputs": [],
   "source": [
    "np.polyfit(lowprice.column(...),lowprice.column(...),1)"
   ]
  },
  {
   "cell_type": "code",
   "execution_count": null,
   "metadata": {},
   "outputs": [],
   "source": [
    "lowPriceDemand = ...\n",
    "lowPriceDemand"
   ]
  },
  {
   "cell_type": "markdown",
   "metadata": {},
   "source": [
    "**Question 2.3:** Suppose the supply curve is $\\text{Supply} = 0.05Q + 94$. Write the expression using SymPy."
   ]
  },
  {
   "cell_type": "code",
   "execution_count": null,
   "metadata": {},
   "outputs": [],
   "source": [
    "lowPriceSupply = ...\n",
    "lowPriceSupply"
   ]
  },
  {
   "cell_type": "markdown",
   "metadata": {},
   "source": [
    "**Question 2.4:** Find the quantity equilibrium. "
   ]
  },
  {
   "cell_type": "code",
   "execution_count": null,
   "metadata": {},
   "outputs": [],
   "source": [
    "Q_star = solve(lowPriceDemand, lowPriceSupply)\n",
    "Q_star"
   ]
  },
  {
   "cell_type": "markdown",
   "metadata": {},
   "source": [
    "**Question 2.5:** Find the price equilibrium. Visualize the market equilibrium. "
   ]
  },
  {
   "cell_type": "code",
   "execution_count": null,
   "metadata": {},
   "outputs": [],
   "source": [
    "lowPriceDemand.subs(Q, Q_star)\n",
    "lowPriceSupply.subs(Q, Q_star)"
   ]
  },
  {
   "cell_type": "code",
   "execution_count": null,
   "metadata": {},
   "outputs": [],
   "source": [
    "plot_equation(..., -500, 2000)\n",
    "plot_equation(..., -500, 2000)\n",
    "plt.ylim(0,250)\n",
    "plt.title(\"Low Price Airfare Supply and Demand\")\n",
    "plt.xlabel(\"Quantity\")\n",
    "plt.ylabel(\"Price\")\n",
    "plot_intercept(..., ...)"
   ]
  },
  {
   "cell_type": "markdown",
   "metadata": {},
   "source": [
    "**Question 2.6:** If consumers' incomes decreased, then the demand for inferior goods increases. Suppose the airfare consumers' incomes decreased. How would this demand shift look like? Use the slider from this week's lab, the skeleton for which is copied beloiw. Visualizing the slider is enough for this question."
   ]
  },
  {
   "cell_type": "code",
   "execution_count": null,
   "metadata": {},
   "outputs": [],
   "source": [
    "def shift_demand():\n",
    "    equation = ...\n",
    "    def shift_helper(shift):\n",
    "        plot_equation(equation, 0, 10000, \"Original\")\n",
    "        plot_equation(..., ..., ...)\n",
    "        old = plot_intercept(equation, ...)\n",
    "        print('Original Intercept:', old)\n",
    "        \n",
    "        if shift != 0:\n",
    "            plot_equation(equation + shift, -10, 10000, 'Shifted')\n",
    "            new = plot_intercept(equation + shift, supply)\n",
    "            print('New intercept:', new)\n",
    "            print('Change in Quantity:', round(float(new[0]-old[0]), 2))\n",
    "            print('Change in Price:', round(float(new[1]-old[1]), 2))\n",
    "        else:\n",
    "            print('Nothing shifted yet, use the slider to move the line!')\n",
    "        plt.xlim(-50,1750)\n",
    "        plt.ylim(0,250)\n",
    "        plt.legend()\n",
    "        plt.ylabel(\"Price\")\n",
    "        plt.xlabel(\"Quantity\")\n",
    "        plt.title(\"Change in Income and Market Equilibrium\")\n",
    "    interact(shift_helper, shift=(-6, 30, 2))\n",
    "\n",
    "\n",
    "shift_demand()"
   ]
  },
  {
   "cell_type": "markdown",
   "metadata": {},
   "source": [
    "**Question 2.7:** Visualize the market equilibrium for all flights with fewer than 2000 weekly passengers (from lecture) and that of low priced airlines. You should end up with a graph with 1 supply curve and 2 demand curves (1 for all airlines and 1 for low priced airlines). In 2-4 sentences, interpret what this graph means and why there is or is not a difference between the two market equilibriums. "
   ]
  },
  {
   "cell_type": "code",
   "execution_count": null,
   "metadata": {},
   "outputs": [],
   "source": [
    "airlines = airlines.drop(\"Price\")\n",
    "airlinesFiltered = airlines.relabeled([\"Average Fare\", \"Average Weekly Passengers\"], [\"Price\", \"Quantity\"])\n",
    "airlinesFiltered = airlinesFiltered.where(...)\n",
    "np.polyfit(airlinesFiltered.column(...), airlinesFiltered.column(...), 1)"
   ]
  },
  {
   "cell_type": "code",
   "execution_count": null,
   "metadata": {},
   "outputs": [],
   "source": [
    "airlinesDemand = ...\n",
    "Q_star_allairlines = solve(..., ...)\n",
    "airlinesDemand.subs(..., ...)"
   ]
  },
  {
   "cell_type": "code",
   "execution_count": null,
   "metadata": {},
   "outputs": [],
   "source": [
    "plot_equation(..., -1000, 6000, \"All Airlines\")\n",
    "plot_equation(..., -1000, 6000, \"Low Price Airlines\")\n",
    "plot_equation(..., -1000, 6000)\n",
    "plt.ylim(0,300)\n",
    "plt.title(\"All Airlines vs Low Price Airlines\")\n",
    "plt.xlabel(\"Quantity\")\n",
    "plt.ylabel(\"Price\")\n",
    "plt.legend()\n",
    "plot_intercept(..., ...)"
   ]
  },
  {
   "cell_type": "markdown",
   "metadata": {},
   "source": [
    "_Type your answer here, replacing this text._"
   ]
  }
 ],
 "metadata": {
  "kernelspec": {
   "display_name": "Python 3",
   "language": "python",
   "name": "python3"
  },
  "language_info": {
   "codemirror_mode": {
    "name": "ipython",
    "version": 3
   },
   "file_extension": ".py",
   "mimetype": "text/x-python",
   "name": "python",
   "nbconvert_exporter": "python",
   "pygments_lexer": "ipython3",
   "version": "3.6.8"
  }
 },
 "nbformat": 4,
 "nbformat_minor": 2
}
