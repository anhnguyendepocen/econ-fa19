{
 "cells": [
  {
   "cell_type": "markdown",
   "metadata": {},
   "source": [
    "# Will I find a job after college and what will my salary be worth: Understanding Inflation and Unemployment\n",
    "\n",
    "### Content for Today\n",
    "* [Inflation and Why It Matters](#Inflation-and-Why-It-Matters)\n",
    "* [Unemployment and Why It Matters](#Unemployment-and-Why-It-Matters)\n",
    "* [Inflation and Unemployment Relationship](#Unemployment-and-Why-It-Matters)\n",
    "    * [Phillips Curve](#Phillips-curve)\n",
    "    * [Federal Reserve and Dual Mandate](#Federal-Reserve-Bank-and-Dual-Mandate)\n",
    "* [Data Deep Dive](#Data-Deep-Dive)\n",
    "    * [Visualizing the Relationship](#Visualizing-the-Relationship)\n",
    "    * [1970s and Stagflation](#1970s-and-Stagflation)\n",
    "    * [Where we Stand Today](#Given-Historically-Low-Unemployment-Today-Why-Is-Inflation-So-Low?)\n",
    "* [Positioning for Wage Inflation: Structuring a Trade](#Positioning-for-Wage-Inflation:-Structuring-a-Trade)\n",
    "* [Questions + Stay in Touch](#Stay-in-Touch)"
   ]
  },
  {
   "cell_type": "markdown",
   "metadata": {},
   "source": [
    "## Inflation and Why It Matters\n",
    "\n",
    "* Inflation is the rate at which the general level of prices for goods and services is rising and, consequently, the purchasing power of currency is falling.\n",
    "* Those with tangible assets, like property or stocked commodities, may like to see some inflation as that raises the value of their assets.\n",
    "* People holding cash may not like inflation, as it erodes the value of their cash holdings.\n",
    "* Ideally, an optimum level of inflation is required to promote spending to a certain extent instead of saving, thereby nurturing economic growth.\n",
    "\n",
    "Source: [Link](https://www.investopedia.com/terms/i/inflation.asp)\n",
    "\n",
    "While five-digit, Venezuelan-grade inflation is destructive, a little bit greases the wheels of commerce. It makes it easier for companies to give stealth pay cuts to underperformers, because keeping their pay flat is tantamount to a reduction in real wages. Some inflation is also useful to central banks because it helps them fight recessions. To spur borrowing, they like to cut their policy rates to well below the rate of inflation. But they have no room to do so if the rate is barely above zero. A surprise decline in inflation also punishes borrowers by making their debts more burdensome. \n",
    "\n",
    "Source: ([Link](https://www.bloomberg.com/news/articles/2019-04-17/did-capitalism-kill-inflation))\n",
    "\n",
    "Two most common indices that track inflation and CPI (consumer price index) and PCE (personal consumption expenditure). "
   ]
  },
  {
   "cell_type": "code",
   "execution_count": null,
   "metadata": {},
   "outputs": [],
   "source": [
    "# imports\n",
    "import pandas as pd\n",
    "import matplotlib.pyplot as plt\n",
    "!pip install gs-quant\n",
    "from gs_quant.data import Dataset\n",
    "from gs_quant.api.fred.data import FredDataApi"
   ]
  },
  {
   "cell_type": "code",
   "execution_count": null,
   "metadata": {},
   "outputs": [],
   "source": [
    "# FRED API key, create one here: https://research.stlouisfed.org/docs/api/api_key.html\n",
    "FRED_API_KEY = 'a6c54519943b6b443ff851c4fe98ed5d'\n",
    "fred_API = FredDataApi(api_key=FRED_API_KEY)"
   ]
  },
  {
   "cell_type": "code",
   "execution_count": null,
   "metadata": {},
   "outputs": [],
   "source": [
    "# Pull the personal consumption expenditure data set (https://fred.stlouisfed.org/series/PCE)\n",
    "PCE_data = Dataset(\"PCE\", fred_API)\n",
    "PCE = PCE_data.get_data()\n",
    "# Put consumer price index for all urban consumers (https://fred.stlouisfed.org/series/CPIAUCSL)\n",
    "CPI_data = Dataset(\"CPIAUCSL\", fred_API)\n",
    "CPI = CPI_data.get_data()\n",
    "# Plot\n",
    "PCE.plot(figsize=(10,6))\n",
    "CPI.plot(figsize=(10,6))"
   ]
  },
  {
   "cell_type": "code",
   "execution_count": null,
   "metadata": {},
   "outputs": [],
   "source": [
    "# Pull average hourly earnings data set and visualize (https://fred.stlouisfed.org/series/CES0500000003)\n",
    "AHE_data = Dataset(\"CES0500000003\", fred_API)\n",
    "AHE = AHE_data.get_data()\n",
    "AHE.plot(figsize=(10,6))"
   ]
  },
  {
   "cell_type": "markdown",
   "metadata": {},
   "source": [
    "### Unemployment and Why It Matters\n",
    "* Unemployment occurs when workers who want to work are unable to find jobs, which means lower economic output, while still requiring subsistence.\n",
    "* High rates of unemployment are a signal of economic distress, but extremely low rates of unemployment may signal an overheated economy.\n",
    "* More unemployed workers mean less total economic production will take place than might have otherwise.\n",
    "\n",
    "Source: [Link](https://www.investopedia.com/terms/u/unemployment.asp)\n",
    "\n",
    "To look at unemployment, we will look at number of unemployed at percentage of the labor force."
   ]
  },
  {
   "cell_type": "code",
   "execution_count": null,
   "metadata": {},
   "outputs": [],
   "source": [
    "# Pull unemployment rate data set and visualize (https://fred.stlouisfed.org/series/UNRATE)\n",
    "UN_data = Dataset(\"UNRATE\", fred_API)\n",
    "UN = UN_data.get_data()\n",
    "UN.plot(figsize=(10,6))"
   ]
  },
  {
   "cell_type": "markdown",
   "metadata": {},
   "source": [
    "## Inflation and Unemployment Relationship\n",
    "\n",
    "When unemployment is low the pool of unemployed workers subsequently decreases and companies increase wages to compete and attract a smaller talent pool. The corporate cost of wages increases and companies pass along those costs to consumers in the form of price increases. When unemployment is high, works are afraid of losing their jobs and put less pressure on employers to raise wages.\n",
    "\n",
    "Source: [Link](https://www.investopedia.com/terms/p/phillipscurve.asp)"
   ]
  },
  {
   "cell_type": "markdown",
   "metadata": {},
   "source": [
    "### Phillips curve\n",
    "\n",
    "The Phillips curve is an economic concept developed by A. W. Phillips stating that inflation and unemployment have a stable and inverse relationship. The theory claims that with economic growth comes inflation, which in turn should lead to more jobs and less unemployment.\n",
    "\n",
    "Source: [Link](https://www.investopedia.com/terms/p/phillipscurve.asp)\n",
    "\n",
    "<img src=\"https://www.economicshelp.org/wp-content/uploads/2013/02/phillips-curve.png\" width=\"400\">"
   ]
  },
  {
   "cell_type": "markdown",
   "metadata": {},
   "source": [
    "### Federal Reserve Bank and Dual Mandate\n",
    "Since 1977, the Federal Reserve has operated under a mandate from Congress to \"promote effectively the goals of maximum employment, stable prices, and moderate long term interest rates\" — what is now commonly referred to as the Fed's \"dual mandate.\" The idea that the Fed should pursue multiple goals can be traced back to at least the 1940s, however, with shifting emphasis on which objective should be paramount. \n",
    "\n",
    "Source: [Link](https://www.richmondfed.org/publications/research/economic_brief/2011/eb_11-12)"
   ]
  },
  {
   "cell_type": "markdown",
   "metadata": {},
   "source": [
    "## Data Deep Dive"
   ]
  },
  {
   "cell_type": "code",
   "execution_count": null,
   "metadata": {},
   "outputs": [],
   "source": [
    "data = pd.concat([PCE,AHE,UN,CPI],axis=1)\n",
    "data.columns = ['PCE', 'AHE', 'UN','CPI']\n",
    "data.head()"
   ]
  },
  {
   "cell_type": "code",
   "execution_count": null,
   "metadata": {},
   "outputs": [],
   "source": [
    "import seaborn as sns\n",
    "sns.set(rc={'figure.figsize':(10,6)})\n",
    "# visually examine where the data gaps are using a heatmap\n",
    "sns.heatmap(data.isnull(), cbar=False) "
   ]
  },
  {
   "cell_type": "code",
   "execution_count": null,
   "metadata": {},
   "outputs": [],
   "source": [
    "data = data[['UN','PCE']] # focus on unemployment and PCE\n",
    "data.dropna(inplace=True) # remove missing values\n",
    "data.head()"
   ]
  },
  {
   "cell_type": "code",
   "execution_count": null,
   "metadata": {},
   "outputs": [],
   "source": [
    "from gs_quant.timeseries import returns\n",
    "# Mind the units - PCE is a level but Phillips curve talks about rates - let's convert\n",
    "data['PCE_YOY'] = returns(data.PCE,12)*100 # 12 months in a year"
   ]
  },
  {
   "cell_type": "markdown",
   "metadata": {},
   "source": [
    "### Visualizing the Relationship "
   ]
  },
  {
   "cell_type": "code",
   "execution_count": null,
   "metadata": {},
   "outputs": [],
   "source": [
    "sns.jointplot('UN', 'PCE_YOY',data=data, kind='kde') # kernel density estimation\n",
    "sns.jointplot('UN', 'PCE_YOY',data=data, kind='reg') # regression"
   ]
  },
  {
   "cell_type": "code",
   "execution_count": null,
   "metadata": {},
   "outputs": [],
   "source": [
    "from datetime import datetime\n",
    "def label_period(row):\n",
    "    row_date = row.name \n",
    "    if row_date < datetime.strptime('1970-01-01', '%Y-%m-%d'):\n",
    "        return '60s'\n",
    "    if row_date < datetime.strptime('1980-01-01', '%Y-%m-%d'):\n",
    "        return '70s'\n",
    "    if row_date < datetime.strptime('1990-01-01', '%Y-%m-%d'):\n",
    "        return '80s'\n",
    "    if row_date < datetime.strptime('2000-01-01', '%Y-%m-%d'):\n",
    "        return '90s'\n",
    "    if row_date < datetime.strptime('2007-07-01', '%Y-%m-%d'):\n",
    "        return '00s precrisis'\n",
    "    if row_date < datetime.strptime('2009-03-01', '%Y-%m-%d'):\n",
    "        return 'gfc'\n",
    "    else:\n",
    "        return 'recent history'\n",
    "        \n",
    "data['period'] = data.apply(label_period,axis=1) # divide data into decades, separating out global financial crisis"
   ]
  },
  {
   "cell_type": "code",
   "execution_count": null,
   "metadata": {},
   "outputs": [],
   "source": [
    "sns.scatterplot(x='UN', y='PCE_YOY',data=data, hue='period') # scatter and color by period"
   ]
  },
  {
   "cell_type": "code",
   "execution_count": null,
   "metadata": {},
   "outputs": [],
   "source": [
    "# look at linear models over the period\n",
    "sns.lmplot(x=\"PCE_YOY\", y=\"UN\", col=\"period\", data=data, aspect=.5)"
   ]
  },
  {
   "cell_type": "markdown",
   "metadata": {},
   "source": [
    "### 1970s and Stagflation\n",
    "Stagflation occurs when an economy experiences stagnant economic growth, high unemployment and high price inflation. This scenario, of course, directly contradicts the theory behind the Philips curve. The United States never experienced stagflation until the 1970s, when rising unemployment did not coincide with declining inflation. \n",
    "\n",
    "Among possible explanations...\n",
    "* One theory states that this economic phenomenon is caused when a sudden increase in the cost of oil reduces an economy's productive capacity. In October 1973, the Organization of Petroleum Exporting Countries (OPEC) issued an embargo against Western countries. This caused the global price of oil to rise dramatically, therefore increasing the costs of goods and contributing to a rise in unemployment. Because transportation costs rise, producing products and getting them to shelves got more expensive and prices rose even as people got laid off. \n",
    "* Harsh regulation of markets, goods and labor in an otherwise inflationary environment are cited as the possible cause of stagflation.\n",
    "* Removing last vestiges of the gold standard -  this removed commodity backing for the currency and put the U.S. dollar and most other world currencies on fiat basis ever since then, ending most practical constraint on the monetary expansion and currency devaluation. \n",
    "\n",
    "Source: [Link](https://www.investopedia.com/terms/p/phillipscurve.asp)"
   ]
  },
  {
   "cell_type": "markdown",
   "metadata": {},
   "source": [
    "### Given Historically Low Unemployment Today Why Is Inflation So Low?\n",
    "\n",
    "Researchers are finding that low inflation is in large part a consequence of globalization or automation or deunionization—or a combination of all three—which undermine workers’ power to bargain for higher wages.\n",
    "\n",
    "Source: [Link](https://www.bloomberg.com/news/articles/2019-04-17/did-capitalism-kill-inflation)\n",
    "\n",
    "<img src=\"https://www.chicagofed.org/~/media/images/research/dual-mandate/bullseye-simple-png.png\" width=\"400\">"
   ]
  },
  {
   "cell_type": "markdown",
   "metadata": {},
   "source": [
    "## Positioning for Wage Inflation: Structuring a Trade\n",
    "\n",
    "Example trade thesis: If unemployment keeps going lower, there should be pressure on wages to rise. Margins of firms with low labor costs are less exposed to rising wages and should outperform stocks with high labor costs during periods of accelerating wage growth."
   ]
  },
  {
   "cell_type": "code",
   "execution_count": null,
   "metadata": {},
   "outputs": [],
   "source": [
    "import datetime as dt\n",
    "from datetime import timedelta\n",
    "from gs_quant.api.gs.assets import GsAssetApi"
   ]
  },
  {
   "cell_type": "code",
   "execution_count": null,
   "metadata": {},
   "outputs": [],
   "source": [
    "endDate = dt.datetime.today()\n",
    "startDate = endDate - timedelta(days=1)"
   ]
  },
  {
   "cell_type": "code",
   "execution_count": null,
   "metadata": {},
   "outputs": [],
   "source": [
    "# Get S&P 500 composition\n",
    "resp = GsAssetApi.get_asset_positions_data('MA4B66MW5E27U8P32SB',startDate, endDate, ['ticker','name','marketCap','netWeight','assetClassificationsGicsSector'])\n",
    "comp_data = pd.DataFrame(resp)\n",
    "comp_data.head()"
   ]
  },
  {
   "cell_type": "code",
   "execution_count": null,
   "metadata": {},
   "outputs": [],
   "source": [
    "# Grab Labor Data\n",
    "labor_data = pd.read_csv('labor_data.csv')\n",
    "labor_data.head()"
   ]
  },
  {
   "cell_type": "code",
   "execution_count": null,
   "metadata": {},
   "outputs": [],
   "source": [
    "# Join on Ticker\n",
    "data = pd.merge(left=comp_data,right=labor_data, how='left', left_on='ticker', right_on='ticker')\n",
    "# Drop The Nulls - In Actuality Need to Better Deal with Missing Data\n",
    "data.dropna(subset=['implied_labor_cost_as_%_of_rev'], inplace=True)\n",
    "data.describe()"
   ]
  },
  {
   "cell_type": "code",
   "execution_count": null,
   "metadata": {},
   "outputs": [],
   "source": [
    "data.groupby(['assetClassificationsGicsSector'])['implied_labor_cost_as_%_of_rev'].mean().sort_values(ascending=False).plot.bar(figsize=(10,6))"
   ]
  },
  {
   "cell_type": "markdown",
   "metadata": {},
   "source": [
    "One simple implementation could be to buy the sector with the highest labor cost and sell with the lowest...BUT there are many other factors to potentially consider and analyze!"
   ]
  },
  {
   "cell_type": "markdown",
   "metadata": {},
   "source": [
    "# Stay in Touch"
   ]
  },
  {
   "cell_type": "markdown",
   "metadata": {},
   "source": [
    "<img src=\"Check-in.PNG\" width=\"1000\">"
   ]
  },
  {
   "cell_type": "markdown",
   "metadata": {},
   "source": [
    " "
   ]
  }
 ],
 "metadata": {
  "kernelspec": {
   "display_name": "Python 3",
   "language": "python",
   "name": "python3"
  },
  "language_info": {
   "codemirror_mode": {
    "name": "ipython",
    "version": 3
   },
   "file_extension": ".py",
   "mimetype": "text/x-python",
   "name": "python",
   "nbconvert_exporter": "python",
   "pygments_lexer": "ipython3",
   "version": "3.6.8"
  }
 },
 "nbformat": 4,
 "nbformat_minor": 4
}
